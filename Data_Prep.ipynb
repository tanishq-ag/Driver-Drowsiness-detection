{
 "cells": [
  {
   "cell_type": "code",
   "execution_count": 1,
   "metadata": {},
   "outputs": [],
   "source": [
    "import os\n",
    "import shutil\n",
    "import glob\n",
    "from tqdm import tqdm"
   ]
  },
  {
   "cell_type": "code",
   "execution_count": 4,
   "metadata": {},
   "outputs": [
    {
     "name": "stderr",
     "output_type": "stream",
     "text": [
      "0it [00:00, ?it/s]\n",
      "100%|██████████| 1384/1384 [00:00<00:00, 3540.87it/s]\n",
      "100%|██████████| 10257/10257 [00:03<00:00, 3409.33it/s]\n",
      "100%|██████████| 832/832 [00:00<00:00, 2467.81it/s]\n",
      "100%|██████████| 3242/3242 [00:01<00:00, 2431.50it/s]\n",
      "100%|██████████| 1012/1012 [00:00<00:00, 2369.33it/s]\n",
      "100%|██████████| 624/624 [00:00<00:00, 3374.12it/s]\n",
      "100%|██████████| 6193/6193 [00:01<00:00, 3318.36it/s]\n",
      "100%|██████████| 387/387 [00:00<00:00, 2737.98it/s]\n",
      "100%|██████████| 1738/1738 [00:00<00:00, 2313.15it/s]\n",
      "100%|██████████| 3605/3605 [00:01<00:00, 3004.99it/s]\n",
      "100%|██████████| 8884/8884 [00:02<00:00, 3057.03it/s]\n",
      "100%|██████████| 382/382 [00:00<00:00, 2653.41it/s]\n",
      "100%|██████████| 1502/1502 [00:00<00:00, 2757.72it/s]\n",
      "100%|██████████| 752/752 [00:00<00:00, 2911.60it/s]\n",
      "100%|██████████| 522/522 [00:00<00:00, 3179.36it/s]\n",
      "100%|██████████| 1132/1132 [00:00<00:00, 2829.21it/s]\n",
      "100%|██████████| 8728/8728 [00:02<00:00, 3199.12it/s]\n",
      "100%|██████████| 739/739 [00:00<00:00, 2716.19it/s]\n",
      "100%|██████████| 681/681 [00:00<00:00, 2998.47it/s]\n",
      "100%|██████████| 736/736 [00:00<00:00, 2830.64it/s]\n",
      "100%|██████████| 1114/1114 [00:00<00:00, 3222.04it/s]\n",
      "100%|██████████| 679/679 [00:00<00:00, 2711.87it/s]\n",
      "100%|██████████| 1069/1069 [00:00<00:00, 2838.87it/s]\n",
      "100%|██████████| 6162/6162 [00:02<00:00, 3058.82it/s]\n",
      "100%|██████████| 642/642 [00:00<00:00, 2929.22it/s]\n",
      "100%|██████████| 736/736 [00:00<00:00, 2750.23it/s]\n",
      "100%|██████████| 1648/1648 [00:00<00:00, 3106.97it/s]\n",
      "100%|██████████| 399/399 [00:00<00:00, 3591.48it/s]\n",
      "100%|██████████| 6175/6175 [00:01<00:00, 3189.71it/s]\n",
      "100%|██████████| 1246/1246 [00:00<00:00, 3218.12it/s]\n",
      "100%|██████████| 987/987 [00:00<00:00, 3334.10it/s]\n",
      "100%|██████████| 704/704 [00:00<00:00, 3332.31it/s]\n",
      "100%|██████████| 4410/4410 [00:01<00:00, 3152.14it/s]\n",
      "100%|██████████| 665/665 [00:00<00:00, 3085.18it/s]\n",
      "100%|██████████| 1648/1648 [00:00<00:00, 3273.01it/s]\n",
      "100%|██████████| 1393/1393 [00:00<00:00, 3301.31it/s]\n",
      "100%|██████████| 1889/1889 [00:00<00:00, 3132.86it/s]\n"
     ]
    }
   ],
   "source": [
    "import os\n",
    "import shutil\n",
    "from tqdm import tqdm\n",
    "\n",
    "Raw_DIR = r'/Users/tanishqagarwal/Downloads/New/mrlEyes_2018_01'\n",
    "\n",
    "# Define destination directories\n",
    "closed_eyes_dir = r'/Users/tanishqagarwal/Downloads/New/Closed Eyes'\n",
    "open_eyes_dir = r'/Users/tanishqagarwal/Downloads/New/Open Eyes'\n",
    "\n",
    "# Create the directories if they don't exist\n",
    "os.makedirs(closed_eyes_dir, exist_ok=True)\n",
    "os.makedirs(open_eyes_dir, exist_ok=True)\n",
    "\n",
    "# Iterate through the files and copy them to the appropriate folder\n",
    "for dirpath, dirname, filenames in os.walk(Raw_DIR):\n",
    "    for i in tqdm([f for f in filenames if f.endswith('.png')]):\n",
    "        if i.split('_')[4] == '0':\n",
    "            shutil.copy(src=os.path.join(dirpath, i), dst=closed_eyes_dir)\n",
    "        elif i.split('_')[4] == '1':\n",
    "            shutil.copy(src=os.path.join(dirpath, i), dst=open_eyes_dir)\n"
   ]
  }
 ],
 "metadata": {
  "kernelspec": {
   "display_name": "Python 3",
   "language": "python",
   "name": "python3"
  },
  "language_info": {
   "codemirror_mode": {
    "name": "ipython",
    "version": 3
   },
   "file_extension": ".py",
   "mimetype": "text/x-python",
   "name": "python",
   "nbconvert_exporter": "python",
   "pygments_lexer": "ipython3",
   "version": "3.12.0"
  }
 },
 "nbformat": 4,
 "nbformat_minor": 2
}
